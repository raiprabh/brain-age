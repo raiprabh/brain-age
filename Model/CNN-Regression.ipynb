{
 "cells": [
  {
   "cell_type": "code",
   "execution_count": 1,
   "metadata": {},
   "outputs": [],
   "source": [
    "#Set-up\n",
    "import os\n",
    "import numpy as np\n",
    "import pandas as pd\n",
    "import matplotlib.pylab as plt\n",
    "import seaborn as sns\n",
    "import warnings\n",
    "from IPython.display import clear_output\n",
    "import nibabel as nib\n",
    "\n",
    "import torch\n",
    "import torchvision.models as models\n",
    "import torchvision.transforms as transforms\n",
    "import torch.optim as optim\n",
    "import torch.nn as nn\n",
    "from torch.optim import lr_scheduler\n",
    "import torch.nn.functional as F\n",
    "import torch.utils.data as utils\n",
    "import time\n",
    "import copy"
   ]
  },
  {
   "cell_type": "code",
   "execution_count": 2,
   "metadata": {},
   "outputs": [
    {
     "name": "stdout",
     "output_type": "stream",
     "text": [
      "torch.Size([536, 3, 224, 224]) torch.Size([536, 1])\n",
      "torch.float32 torch.float32\n"
     ]
    }
   ],
   "source": [
    "x = torch.load(\"/data/3d/ixi-data.pt\")\n",
    "y = torch.load(\"/data/3d/ixi-labels.pt\")\n",
    "n = x.shape[0]\n",
    "y = torch.reshape(y,(n,1))\n",
    "print(x.shape,y.shape)\n",
    "print(x.dtype,y.dtype)"
   ]
  },
  {
   "cell_type": "code",
   "execution_count": 3,
   "metadata": {},
   "outputs": [
    {
     "name": "stdout",
     "output_type": "stream",
     "text": [
      "torch.Size([1033, 3, 224, 224]) torch.Size([1033, 1])\n",
      "torch.float32 torch.float32\n"
     ]
    }
   ],
   "source": [
    "fcp_x = torch.load(\"/data/3d/fcp-data.pt\")\n",
    "fcp_y = torch.load(\"/data/3d/fcp-labels.pt\").float()\n",
    "n = fcp_x.shape[0]\n",
    "fcp_y = torch.reshape(fcp_y,(n,1))\n",
    "print(fcp_x.shape,fcp_y.shape)\n",
    "print(fcp_x.dtype,fcp_y.dtype)"
   ]
  },
  {
   "cell_type": "code",
   "execution_count": 4,
   "metadata": {},
   "outputs": [
    {
     "name": "stdout",
     "output_type": "stream",
     "text": [
      "torch.Size([570, 3, 224, 224]) torch.Size([570, 1])\n",
      "torch.float32 torch.float32\n"
     ]
    }
   ],
   "source": [
    "adni_x = torch.load('/data/3d/adni-data.pt')\n",
    "adni_y = torch.load('/data/3d/adni-labels.pt').float()\n",
    "adni_y = torch.reshape(adni_y, (adni_y.shape[0], 1))\n",
    "print(adni_x.shape, adni_y.shape)\n",
    "print(adni_x.dtype, adni_y.dtype)"
   ]
  },
  {
   "cell_type": "code",
   "execution_count": 5,
   "metadata": {},
   "outputs": [],
   "source": [
    "#Normalizing the data (according to the stats provided) before feeding into the pretrained model\n",
    "# fcp_x_normalized = torch.Tensor(fcp_x.shape)\n",
    "# for i in range(n):\n",
    "#     fcp_x_normalized[i] = transforms.Normalize(mean=[0.485, 0.456, 0.406],\n",
    "#                                      std=[0.229, 0.224, 0.225]).__call__(fcp_x[i,:,:])\n"
   ]
  },
  {
   "cell_type": "code",
   "execution_count": 6,
   "metadata": {},
   "outputs": [
    {
     "name": "stdout",
     "output_type": "stream",
     "text": [
      "torch.float32 torch.float32\n"
     ]
    }
   ],
   "source": [
    "x = torch.cat((x, fcp_x, adni_x))\n",
    "y = torch.cat((y, fcp_y, adni_y))\n",
    "print(x.dtype, y.dtype)"
   ]
  },
  {
   "cell_type": "code",
   "execution_count": 7,
   "metadata": {},
   "outputs": [
    {
     "name": "stdout",
     "output_type": "stream",
     "text": [
      "using device: cuda\n"
     ]
    }
   ],
   "source": [
    "USE_GPU = True\n",
    "\n",
    "dtype = torch.float32\n",
    "\n",
    "if USE_GPU and torch.cuda.is_available():\n",
    "    device = torch.device('cuda')\n",
    "else:\n",
    "    device = torch.device('cpu')\n",
    "\n",
    "print('using device:', device)"
   ]
  },
  {
   "cell_type": "code",
   "execution_count": 8,
   "metadata": {},
   "outputs": [
    {
     "name": "stdout",
     "output_type": "stream",
     "text": [
      "Total Data: 2139\n"
     ]
    }
   ],
   "source": [
    "dataset = utils.TensorDataset(x, y)\n",
    "n = x.shape[0]\n",
    "print('Total Data:', n)"
   ]
  },
  {
   "cell_type": "code",
   "execution_count": 9,
   "metadata": {},
   "outputs": [
    {
     "name": "stdout",
     "output_type": "stream",
     "text": [
      "Training Data: 1283\n",
      "Validation Data: 428\n",
      "Test Data: 428\n"
     ]
    }
   ],
   "source": [
    "train_indices = [i for i in range(n) if (i % 5 == 0 or i % 5 == 2 or i % 5 == 4)]\n",
    "val_indices = [i for i in range(n) if i % 5 == 3]\n",
    "test_indices = [i for i in range(n) if i not in train_indices and i not in val_indices]\n",
    "\n",
    "print('Training Data:', len(train_indices))\n",
    "print('Validation Data:', len(val_indices))\n",
    "print('Test Data:', len(test_indices))\n",
    "\n",
    "dataloaders = {}\n",
    "dataloaders['train'] = torch.utils.data.DataLoader(dataset, batch_size=4,\n",
    "                                             shuffle=False,sampler=utils.sampler.SubsetRandomSampler(train_indices),num_workers=4)\n",
    "dataloaders['val'] = torch.utils.data.DataLoader(dataset, batch_size=4,\n",
    "                                             shuffle=False,sampler=utils.sampler.SubsetRandomSampler(val_indices),num_workers=4)"
   ]
  },
  {
   "cell_type": "code",
   "execution_count": 10,
   "metadata": {},
   "outputs": [],
   "source": [
    "def train_model(model, criterion, optimizer, scheduler, num_epochs=25):\n",
    "    since = time.time()\n",
    "    train_loss_history = []\n",
    "    val_loss_history = []\n",
    "    train_age_diff_history = []\n",
    "    val_age_diff_history = []\n",
    "\n",
    "    best_model_wts = copy.deepcopy(model.state_dict())\n",
    "    best_offset = float('inf')\n",
    "\n",
    "    for epoch in range(num_epochs):\n",
    "        print('Epoch {}/{}'.format(epoch, num_epochs - 1))\n",
    "        print('-' * 10)\n",
    "\n",
    "        # Each epoch has a training and validation phase\n",
    "        for phase in ['train', 'val']:\n",
    "            if phase == 'train':\n",
    "                scheduler.step()\n",
    "                model.train()  # Set model to training mode\n",
    "            else:\n",
    "                model.eval()   # Set model to evaluate mode\n",
    "\n",
    "            running_loss = 0.0\n",
    "            running_offset = 0\n",
    "\n",
    "            # Iterate over data.\n",
    "            for inputs, labels in dataloaders[phase]:\n",
    "                inputs = inputs.to(device)\n",
    "                labels = labels.to(device)\n",
    "\n",
    "                # zero the parameter gradients\n",
    "                optimizer.zero_grad()\n",
    "\n",
    "                # forward\n",
    "                # track history if only in train\n",
    "                with torch.set_grad_enabled(phase == 'train'):\n",
    "                    outputs = model(inputs)\n",
    "                    loss = criterion(outputs, labels)\n",
    "\n",
    "                    # backward + optimize only if in training phase\n",
    "                    if phase == 'train':\n",
    "                        loss.backward()\n",
    "                        optimizer.step()\n",
    "\n",
    "                # statistics\n",
    "                running_loss += loss.item() * inputs.size(0)\n",
    "                running_offset += torch.sum(torch.abs(outputs - labels.data))\n",
    "\n",
    "            epoch_loss = running_loss / n\n",
    "            epoch_offset = running_offset / n\n",
    "\n",
    "            print('{} Loss: {:.4f} Diff: {:.4f}'.format(\n",
    "                phase, epoch_loss, epoch_offset))\n",
    "            \n",
    "            if phase == 'val':\n",
    "                val_loss_history.append(epoch_loss)\n",
    "                val_age_diff_history.append(epoch_offset)\n",
    "            else:\n",
    "                train_loss_history.append(epoch_loss)\n",
    "                train_age_diff_history.append(epoch_offset)\n",
    "                \n",
    "                \n",
    "\n",
    "            # deep copy the model\n",
    "            if phase == 'val' and epoch_offset < best_offset:\n",
    "                best_offset = epoch_offset\n",
    "                best_model_wts = copy.deepcopy(model.state_dict())\n",
    "\n",
    "        print()\n",
    "\n",
    "    time_elapsed = time.time() - since\n",
    "    print('Training complete in {:.0f}m {:.0f}s'.format(\n",
    "        time_elapsed // 60, time_elapsed % 60))\n",
    "    print('Best val Diff: {:4f}'.format(best_offset))\n",
    "\n",
    "    # load best model weights\n",
    "    model.load_state_dict(best_model_wts)\n",
    "    return model, train_loss_history, val_loss_history, train_age_diff_history, val_age_diff_history"
   ]
  },
  {
   "cell_type": "code",
   "execution_count": 11,
   "metadata": {},
   "outputs": [],
   "source": [
    "model_ft = models.resnet18(pretrained=True)\n",
    "\n",
    "num_ftrs = model_ft.fc.in_features\n",
    "model_ft.fc = nn.Linear(num_ftrs, 1)\n",
    "\n",
    "model_ft = model_ft.to(device)\n",
    "\n",
    "criterion = nn.MSELoss()\n",
    "\n",
    "# Observe that all parameters are being optimized\n",
    "# optimizer_ft = optim.SGD(model_ft.parameters(), lr=0.001, momentum=0.9)\n",
    "optimizer_ft = optim.Adam(model_ft.parameters(), lr=0.001)\n",
    "\n",
    "# Decay LR by a factor of 0.1 every 7 epochs\n",
    "exp_lr_scheduler = lr_scheduler.StepLR(optimizer_ft, step_size=7, gamma=0.1)"
   ]
  },
  {
   "cell_type": "code",
   "execution_count": 12,
   "metadata": {},
   "outputs": [
    {
     "name": "stdout",
     "output_type": "stream",
     "text": [
      "Epoch 0/9\n",
      "----------\n",
      "train Loss: 291.2053 Diff: 10.0438\n",
      "val Loss: 42.5569 Diff: 2.1036\n",
      "\n",
      "Epoch 1/9\n",
      "----------\n",
      "train Loss: 106.7312 Diff: 6.0767\n",
      "val Loss: 23.1901 Diff: 1.5274\n",
      "\n",
      "Epoch 2/9\n",
      "----------\n",
      "train Loss: 93.4354 Diff: 5.6459\n",
      "val Loss: 34.7237 Diff: 2.0322\n",
      "\n",
      "Epoch 3/9\n",
      "----------\n",
      "train Loss: 80.5710 Diff: 5.1596\n",
      "val Loss: 22.9217 Diff: 1.4855\n",
      "\n",
      "Epoch 4/9\n",
      "----------\n",
      "train Loss: 73.5191 Diff: 4.8557\n",
      "val Loss: 21.5214 Diff: 1.4093\n",
      "\n",
      "Epoch 5/9\n",
      "----------\n",
      "train Loss: 68.1287 Diff: 4.6612\n",
      "val Loss: 22.4774 Diff: 1.6321\n",
      "\n",
      "Epoch 6/9\n",
      "----------\n",
      "train Loss: 51.0667 Diff: 4.0017\n",
      "val Loss: 20.1064 Diff: 1.3985\n",
      "\n",
      "Epoch 7/9\n",
      "----------\n",
      "train Loss: 43.8494 Diff: 3.6901\n",
      "val Loss: 18.2611 Diff: 1.3515\n",
      "\n",
      "Epoch 8/9\n",
      "----------\n",
      "train Loss: 40.7087 Diff: 3.5194\n",
      "val Loss: 26.3815 Diff: 1.6634\n",
      "\n",
      "Epoch 9/9\n",
      "----------\n",
      "train Loss: 39.2988 Diff: 3.4693\n",
      "val Loss: 16.9299 Diff: 1.2940\n",
      "\n",
      "Training complete in 3m 26s\n",
      "Best val Diff: 1.293991\n"
     ]
    }
   ],
   "source": [
    "model_ft, train_loss_history, val_loss_history, train_age_diff_history, val_age_diff_history = train_model(model_ft, criterion, optimizer_ft, exp_lr_scheduler,\n",
    "                       num_epochs=10)"
   ]
  },
  {
   "cell_type": "code",
   "execution_count": 13,
   "metadata": {},
   "outputs": [
    {
     "data": {
      "image/png": "[encoded data removed]",
      "text/plain": [
       "<Figure size 1080x1080 with 2 Axes>"
      ]
     },
     "metadata": {},
     "output_type": "display_data"
    }
   ],
   "source": [
    "epochs = np.arange(10)\n",
    "plt.subplot(2,1,1)\n",
    "plt.title('Loss')\n",
    "plt.xlabel('Epoch')\n",
    "plt.plot(epochs, train_loss_history, marker='+', label='Train Loss')\n",
    "plt.plot(epochs, val_loss_history, marker='+', label='Validation Loss')\n",
    "plt.legend(loc='upper right')\n",
    "\n",
    "plt.subplot(2,1,2)\n",
    "plt.title('Age Difference')\n",
    "plt.xlabel('Epoch')\n",
    "plt.plot(epochs, train_age_diff_history, marker='+', label='Train Age Difference')\n",
    "plt.plot(epochs, val_age_diff_history, marker='+', label='Validation Age Difference')\n",
    "plt.legend(loc='upper right')\n",
    "\n",
    "plt.gcf().set_size_inches(15, 15)\n",
    "plt.show()"
   ]
  },
  {
   "cell_type": "code",
   "execution_count": 14,
   "metadata": {},
   "outputs": [],
   "source": [
    "def check_error(data,labels,model):\n",
    "    print('Checking error on test set')   \n",
    "    total_abs_err = 0.0\n",
    "    num_samples = labels.shape[0]\n",
    "    model.eval()  # set model to evaluation mode\n",
    "    with torch.no_grad():\n",
    "        data = data.to(device=device, dtype=dtype)  # move to device, e.g. GPU\n",
    "        labels = labels.to(device=device,dtype=dtype)\n",
    "        scores = model(data)\n",
    "        predicted_ages = scores\n",
    "        total_abs_err += (torch.abs(labels - scores).sum())\n",
    "        mean_abs_err = float(total_abs_err) / num_samples\n",
    "        print('Got error %.2f' % (mean_abs_err))"
   ]
  },
  {
   "cell_type": "code",
   "execution_count": 15,
   "metadata": {},
   "outputs": [
    {
     "name": "stdout",
     "output_type": "stream",
     "text": [
      "Checking error on test set\n",
      "Got error 6.69\n"
     ]
    }
   ],
   "source": [
    "check_error(x[test_indices,:], y[test_indices],model_ft)"
   ]
  },
  {
   "cell_type": "markdown",
   "metadata": {},
   "source": [
    "### Test on AD subjects"
   ]
  },
  {
   "cell_type": "code",
   "execution_count": 16,
   "metadata": {},
   "outputs": [],
   "source": [
    "x_ad = torch.load(\"/data/3d/adni-ad-data.pt\")\n",
    "y_ad = torch.load(\"/data/3d/adni-ad-labels.pt\")"
   ]
  },
  {
   "cell_type": "code",
   "execution_count": 17,
   "metadata": {},
   "outputs": [],
   "source": [
    "data = x_ad.to(device=device, dtype=dtype)\n",
    "labels = y_ad.to(device=device,dtype=dtype)"
   ]
  },
  {
   "cell_type": "code",
   "execution_count": 18,
   "metadata": {},
   "outputs": [],
   "source": [
    "y_pred = model_ft(data)"
   ]
  },
  {
   "cell_type": "code",
   "execution_count": 36,
   "metadata": {},
   "outputs": [
    {
     "data": {
      "text/plain": [
       "tensor(67., device='cuda:0')"
      ]
     },
     "execution_count": 36,
     "metadata": {},
     "output_type": "execute_result"
    }
   ],
   "source": [
    "labels[100]"
   ]
  },
  {
   "cell_type": "code",
   "execution_count": 37,
   "metadata": {},
   "outputs": [
    {
     "data": {
      "text/plain": [
       "tensor([71.9790], device='cuda:0', grad_fn=<SelectBackward>)"
      ]
     },
     "execution_count": 37,
     "metadata": {},
     "output_type": "execute_result"
    }
   ],
   "source": [
    "y_pred[236]"
   ]
  },
  {
   "cell_type": "code",
   "execution_count": 55,
   "metadata": {},
   "outputs": [
    {
     "name": "stderr",
     "output_type": "stream",
     "text": [
      "/home/ubuntu/anaconda3/envs/pytorch_p36/lib/python3.6/site-packages/matplotlib/axes/_axes.py:6521: MatplotlibDeprecationWarning: \n",
      "The 'normed' kwarg was deprecated in Matplotlib 2.1 and will be removed in 3.1. Use 'density' instead.\n",
      "  alternative=\"'density'\", removal=\"3.1\")\n",
      "/home/ubuntu/anaconda3/envs/pytorch_p36/lib/python3.6/site-packages/scipy/stats/stats.py:1713: FutureWarning: Using a non-tuple sequence for multidimensional indexing is deprecated; use `arr[tuple(seq)]` instead of `arr[seq]`. In the future this will be interpreted as an array index, `arr[np.array(seq)]`, which will result either in an error or a different result.\n",
      "  return np.add.reduce(sorted[indexer] * weights, axis=axis) / sumval\n"
     ]
    },
    {
     "data": {
      "image/png": "[encoded data removed]",
      "text/plain": [
       "<Figure size 720x360 with 1 Axes>"
      ]
     },
     "metadata": {},
     "output_type": "display_data"
    },
    {
     "name": "stderr",
     "output_type": "stream",
     "text": [
      "/home/ubuntu/anaconda3/envs/pytorch_p36/lib/python3.6/site-packages/matplotlib/axes/_axes.py:6521: MatplotlibDeprecationWarning: \n",
      "The 'normed' kwarg was deprecated in Matplotlib 2.1 and will be removed in 3.1. Use 'density' instead.\n",
      "  alternative=\"'density'\", removal=\"3.1\")\n"
     ]
    },
    {
     "data": {
      "image/png": "[encoded data removed]",
      "text/plain": [
       "<Figure size 720x360 with 1 Axes>"
      ]
     },
     "metadata": {},
     "output_type": "display_data"
    }
   ],
   "source": [
    "import seaborn as sns\n",
    "def plot_age_distribution(data_frame, plot_place):\n",
    "    plt.figure(figsize=(10,5))\n",
    "    plt.subplot(plot_place)\n",
    "    sns.distplot(data_frame, bins=20, label='Number of Subjects')\n",
    "    plt.show()\n",
    "\n",
    "plot_age_distribution(labels.cpu().detach().numpy(), 121)\n",
    "plot_age_distribution(y_pred.cpu().detach().numpy(), 122)"
   ]
  },
  {
   "cell_type": "code",
   "execution_count": null,
   "metadata": {},
   "outputs": [],
   "source": []
  }
 ],
 "metadata": {
  "kernelspec": {
   "display_name": "Environment (conda_pytorch_p36)",
   "language": "python",
   "name": "conda_pytorch_p36"
  },
  "language_info": {
   "codemirror_mode": {
    "name": "ipython",
    "version": 3
   },
   "file_extension": ".py",
   "mimetype": "text/x-python",
   "name": "python",
   "nbconvert_exporter": "python",
   "pygments_lexer": "ipython3",
   "version": "3.6.5"
  }
 },
 "nbformat": 4,
 "nbformat_minor": 2
}
