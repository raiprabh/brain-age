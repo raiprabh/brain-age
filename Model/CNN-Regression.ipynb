{
 "cells": [
  {
   "cell_type": "code",
   "execution_count": 1,
   "metadata": {},
   "outputs": [],
   "source": [
    "#Set-up\n",
    "import os\n",
    "import numpy as np\n",
    "import pandas as pd\n",
    "import matplotlib.pylab as plt\n",
    "import seaborn as sns\n",
    "import warnings\n",
    "from IPython.display import clear_output\n",
    "import nibabel as nib\n",
    "\n",
    "import torch\n",
    "import torchvision.models as models\n",
    "import torchvision.transforms as transforms\n",
    "import torch.optim as optim\n",
    "import torch.nn as nn\n",
    "from torch.optim import lr_scheduler\n",
    "import torch.nn.functional as F\n",
    "import torch.utils.data as utils\n",
    "import time\n",
    "import copy"
   ]
  },
  {
   "cell_type": "code",
   "execution_count": 2,
   "metadata": {},
   "outputs": [
    {
     "name": "stdout",
     "output_type": "stream",
     "text": [
      "torch.Size([536, 3, 224, 224]) torch.Size([536, 1])\n",
      "torch.float32 torch.float32\n"
     ]
    }
   ],
   "source": [
    "x = torch.load(\"/data/3d/ixi-data.pt\")\n",
    "y = torch.load(\"/data/3d/ixi-labels.pt\")\n",
    "n = x.shape[0]\n",
    "y = torch.reshape(y,(n,1))\n",
    "print(x.shape,y.shape)\n",
    "print(x.dtype,y.dtype)"
   ]
  },
  {
   "cell_type": "code",
   "execution_count": 3,
   "metadata": {},
   "outputs": [
    {
     "name": "stdout",
     "output_type": "stream",
     "text": [
      "torch.Size([1033, 3, 224, 224]) torch.Size([1033, 1])\n",
      "torch.float32 torch.float32\n"
     ]
    }
   ],
   "source": [
    "fcp_x = torch.load(\"/data/3d/fcp-data.pt\")\n",
    "fcp_y = torch.load(\"/data/3d/fcp-labels.pt\").float()\n",
    "n = fcp_x.shape[0]\n",
    "fcp_y = torch.reshape(fcp_y,(n,1))\n",
    "print(fcp_x.shape,fcp_y.shape)\n",
    "print(fcp_x.dtype,fcp_y.dtype)"
   ]
  },
  {
   "cell_type": "code",
   "execution_count": 4,
   "metadata": {},
   "outputs": [
    {
     "name": "stdout",
     "output_type": "stream",
     "text": [
      "torch.Size([570, 3, 224, 224]) torch.Size([570, 1])\n",
      "torch.float32 torch.float32\n"
     ]
    }
   ],
   "source": [
    "adni_x = torch.load('/data/3d/adni-data.pt')\n",
    "adni_y = torch.load('/data/3d/adni-labels.pt').float()\n",
    "adni_y = torch.reshape(adni_y, (adni_y.shape[0], 1))\n",
    "print(adni_x.shape, adni_y.shape)\n",
    "print(adni_x.dtype, adni_y.dtype)"
   ]
  },
  {
   "cell_type": "code",
   "execution_count": 5,
   "metadata": {},
   "outputs": [],
   "source": [
    "#Normalizing the data (according to the stats provided) before feeding into the pretrained model\n",
    "# fcp_x_normalized = torch.Tensor(fcp_x.shape)\n",
    "# for i in range(n):\n",
    "#     fcp_x_normalized[i] = transforms.Normalize(mean=[0.485, 0.456, 0.406],\n",
    "#                                      std=[0.229, 0.224, 0.225]).__call__(fcp_x[i,:,:])\n"
   ]
  },
  {
   "cell_type": "code",
   "execution_count": 6,
   "metadata": {},
   "outputs": [
    {
     "name": "stdout",
     "output_type": "stream",
     "text": [
      "torch.float32 torch.float32\n"
     ]
    }
   ],
   "source": [
    "x = torch.cat((x, fcp_x, adni_x))\n",
    "y = torch.cat((y, fcp_y, adni_y))\n",
    "print(x.dtype, y.dtype)"
   ]
  },
  {
   "cell_type": "code",
   "execution_count": 7,
   "metadata": {},
   "outputs": [
    {
     "name": "stdout",
     "output_type": "stream",
     "text": [
      "using device: cuda\n"
     ]
    }
   ],
   "source": [
    "USE_GPU = True\n",
    "\n",
    "dtype = torch.float32\n",
    "\n",
    "if USE_GPU and torch.cuda.is_available():\n",
    "    device = torch.device('cuda')\n",
    "else:\n",
    "    device = torch.device('cpu')\n",
    "\n",
    "print('using device:', device)"
   ]
  },
  {
   "cell_type": "code",
   "execution_count": 8,
   "metadata": {},
   "outputs": [
    {
     "name": "stdout",
     "output_type": "stream",
     "text": [
      "Total Data: 2139\n"
     ]
    }
   ],
   "source": [
    "dataset = utils.TensorDataset(x, y)\n",
    "n = x.shape[0]\n",
    "print('Total Data:', n)"
   ]
  },
  {
   "cell_type": "code",
   "execution_count": 9,
   "metadata": {},
   "outputs": [
    {
     "name": "stdout",
     "output_type": "stream",
     "text": [
      "Training Data: 1283\n",
      "Validation Data: 428\n",
      "Test Data: 428\n"
     ]
    }
   ],
   "source": [
    "train_indices = [i for i in range(n) if (i % 5 == 0 or i % 5 == 2 or i % 5 == 4)]\n",
    "val_indices = [i for i in range(n) if i % 5 == 3]\n",
    "test_indices = [i for i in range(n) if i not in train_indices and i not in val_indices]\n",
    "\n",
    "print('Training Data:', len(train_indices))\n",
    "print('Validation Data:', len(val_indices))\n",
    "print('Test Data:', len(test_indices))\n",
    "\n",
    "dataloaders = {}\n",
    "dataloaders['train'] = torch.utils.data.DataLoader(dataset, batch_size=4,\n",
    "                                             shuffle=False,sampler=utils.sampler.SubsetRandomSampler(train_indices),num_workers=4)\n",
    "dataloaders['val'] = torch.utils.data.DataLoader(dataset, batch_size=4,\n",
    "                                             shuffle=False,sampler=utils.sampler.SubsetRandomSampler(val_indices),num_workers=4)"
   ]
  },
  {
   "cell_type": "code",
   "execution_count": 10,
   "metadata": {},
   "outputs": [],
   "source": [
    "def train_model(model, criterion, optimizer, scheduler, num_epochs=25):\n",
    "    since = time.time()\n",
    "\n",
    "    best_model_wts = copy.deepcopy(model.state_dict())\n",
    "    best_offset = float('inf')\n",
    "\n",
    "    for epoch in range(num_epochs):\n",
    "        print('Epoch {}/{}'.format(epoch, num_epochs - 1))\n",
    "        print('-' * 10)\n",
    "\n",
    "        # Each epoch has a training and validation phase\n",
    "        for phase in ['train', 'val']:\n",
    "            if phase == 'train':\n",
    "                scheduler.step()\n",
    "                model.train()  # Set model to training mode\n",
    "            else:\n",
    "                model.eval()   # Set model to evaluate mode\n",
    "\n",
    "            running_loss = 0.0\n",
    "            running_offset = 0\n",
    "\n",
    "            # Iterate over data.\n",
    "            for inputs, labels in dataloaders[phase]:\n",
    "                inputs = inputs.to(device)\n",
    "                labels = labels.to(device)\n",
    "\n",
    "                # zero the parameter gradients\n",
    "                optimizer.zero_grad()\n",
    "\n",
    "                # forward\n",
    "                # track history if only in train\n",
    "                with torch.set_grad_enabled(phase == 'train'):\n",
    "                    outputs = model(inputs)\n",
    "                    loss = criterion(outputs, labels)\n",
    "\n",
    "                    # backward + optimize only if in training phase\n",
    "                    if phase == 'train':\n",
    "                        loss.backward()\n",
    "                        optimizer.step()\n",
    "\n",
    "                # statistics\n",
    "                running_loss += loss.item() * inputs.size(0)\n",
    "                running_offset += torch.sum(torch.abs(outputs - labels.data))\n",
    "\n",
    "            epoch_loss = running_loss / n\n",
    "            epoch_offset = running_offset / n\n",
    "\n",
    "            print('{} Loss: {:.4f} Diff: {:.4f}'.format(\n",
    "                phase, epoch_loss, epoch_offset))\n",
    "\n",
    "            # deep copy the model\n",
    "            if phase == 'val' and epoch_offset < best_offset:\n",
    "                best_offset = epoch_offset\n",
    "                best_model_wts = copy.deepcopy(model.state_dict())\n",
    "\n",
    "        print()\n",
    "\n",
    "    time_elapsed = time.time() - since\n",
    "    print('Training complete in {:.0f}m {:.0f}s'.format(\n",
    "        time_elapsed // 60, time_elapsed % 60))\n",
    "    print('Best val Diff: {:4f}'.format(best_offset))\n",
    "\n",
    "    # load best model weights\n",
    "    model.load_state_dict(best_model_wts)\n",
    "    return model"
   ]
  },
  {
   "cell_type": "code",
   "execution_count": 11,
   "metadata": {},
   "outputs": [],
   "source": [
    "model_ft = models.resnet18(pretrained=True)\n",
    "\n",
    "num_ftrs = model_ft.fc.in_features\n",
    "model_ft.fc = nn.Linear(num_ftrs, 1)\n",
    "\n",
    "model_ft = model_ft.to(device)\n",
    "\n",
    "criterion = nn.MSELoss()\n",
    "\n",
    "# Observe that all parameters are being optimized\n",
    "# optimizer_ft = optim.SGD(model_ft.parameters(), lr=0.001, momentum=0.9)\n",
    "optimizer_ft = optim.Adam(model_ft.parameters(), lr=0.001)\n",
    "\n",
    "# Decay LR by a factor of 0.1 every 7 epochs\n",
    "exp_lr_scheduler = lr_scheduler.StepLR(optimizer_ft, step_size=7, gamma=0.1)"
   ]
  },
  {
   "cell_type": "code",
   "execution_count": 12,
   "metadata": {},
   "outputs": [
    {
     "name": "stdout",
     "output_type": "stream",
     "text": [
      "Epoch 0/9\n",
      "----------\n",
      "train Loss: 268.7251 Diff: 9.5412\n",
      "val Loss: 32.7319 Diff: 1.9731\n",
      "\n",
      "Epoch 1/9\n",
      "----------\n",
      "train Loss: 110.5941 Diff: 6.1553\n",
      "val Loss: 31.8473 Diff: 1.7752\n",
      "\n",
      "Epoch 2/9\n",
      "----------\n",
      "train Loss: 88.2281 Diff: 5.3993\n",
      "val Loss: 29.9023 Diff: 1.9298\n",
      "\n",
      "Epoch 3/9\n",
      "----------\n",
      "train Loss: 82.8230 Diff: 5.1688\n",
      "val Loss: 50.5370 Diff: 2.4677\n",
      "\n",
      "Epoch 4/9\n",
      "----------\n",
      "train Loss: 74.5760 Diff: 4.9289\n",
      "val Loss: 25.4814 Diff: 1.7020\n",
      "\n",
      "Epoch 5/9\n",
      "----------\n",
      "train Loss: 66.4270 Diff: 4.5685\n",
      "val Loss: 25.8077 Diff: 1.6137\n",
      "\n",
      "Epoch 6/9\n",
      "----------\n",
      "train Loss: 53.6232 Diff: 4.1240\n",
      "val Loss: 20.8035 Diff: 1.4904\n",
      "\n",
      "Epoch 7/9\n",
      "----------\n",
      "train Loss: 48.2163 Diff: 3.8789\n",
      "val Loss: 19.8810 Diff: 1.4628\n",
      "\n",
      "Epoch 8/9\n",
      "----------\n",
      "train Loss: 43.4534 Diff: 3.6725\n",
      "val Loss: 18.7653 Diff: 1.3975\n",
      "\n",
      "Epoch 9/9\n",
      "----------\n",
      "train Loss: 42.3070 Diff: 3.6023\n",
      "val Loss: 19.0811 Diff: 1.4110\n",
      "\n",
      "Training complete in 3m 24s\n",
      "Best val Diff: 1.397510\n"
     ]
    }
   ],
   "source": [
    "model_ft = train_model(model_ft, criterion, optimizer_ft, exp_lr_scheduler,\n",
    "                       num_epochs=10)"
   ]
  },
  {
   "cell_type": "code",
   "execution_count": 59,
   "metadata": {},
   "outputs": [],
   "source": [
    "def check_error(data,labels,model):\n",
    "    print('Checking error on test set')   \n",
    "    total_abs_err = 0.0\n",
    "    num_samples = labels.shape[0]\n",
    "    model.eval()  # set model to evaluation mode\n",
    "    with torch.no_grad():\n",
    "        data = data.to(device=device, dtype=dtype)  # move to device, e.g. GPU\n",
    "        labels = labels.to(device=device,dtype=dtype)\n",
    "        scores = model(data)\n",
    "        predicted_ages = scores\n",
    "        total_abs_err += (torch.abs(labels - scores).sum())\n",
    "        mean_abs_err = float(total_abs_err) / num_samples\n",
    "        print('Got error %.2f' % (mean_abs_err))\n",
    "        \n",
    "        large_difference = []\n",
    "        for i in range(num_samples):\n",
    "            if abs(scores[i].item() - labels[i].item()) > 10:\n",
    "                large_difference.append(test_indices[i])\n",
    "                \n",
    "        print('Large difference items', large_difference)"
   ]
  },
  {
   "cell_type": "code",
   "execution_count": 60,
   "metadata": {},
   "outputs": [
    {
     "name": "stdout",
     "output_type": "stream",
     "text": [
      "Checking error on test set\n",
      "Got error 7.40\n",
      "Large difference items [16, 36, 46, 76, 86, 96, 111, 126, 141, 146, 151, 156, 191, 196, 201, 206, 211, 221, 226, 246, 256, 266, 271, 276, 291, 296, 301, 306, 316, 326, 336, 341, 346, 361, 376, 381, 396, 401, 406, 421, 426, 436, 441, 446, 451, 461, 466, 476, 491, 496, 506, 511, 516, 526, 536, 541, 551, 561, 571, 581, 591, 601, 611, 626, 631, 636, 641, 726, 731, 791, 821, 831, 836, 856, 936, 1141, 1156, 1166, 1181, 1206, 1211, 1216, 1221, 1236, 1246, 1251, 1256, 1261, 1266, 1271, 1276, 1481, 1486, 1496, 1501, 1521, 1531, 1541, 1546, 1621, 1626, 1641, 1751, 1756, 1776, 1781, 1821, 1831, 1871, 1886, 1956, 2021, 2116, 2126]\n"
     ]
    }
   ],
   "source": [
    "check_error(x[test_indices,:], y[test_indices],model_ft)"
   ]
  },
  {
   "cell_type": "code",
   "execution_count": null,
   "metadata": {},
   "outputs": [],
   "source": []
  }
 ],
 "metadata": {
  "kernelspec": {
   "display_name": "Environment (conda_pytorch_p36)",
   "language": "python",
   "name": "conda_pytorch_p36"
  },
  "language_info": {
   "codemirror_mode": {
    "name": "ipython",
    "version": 3
   },
   "file_extension": ".py",
   "mimetype": "text/x-python",
   "name": "python",
   "nbconvert_exporter": "python",
   "pygments_lexer": "ipython3",
   "version": "3.6.5"
  }
 },
 "nbformat": 4,
 "nbformat_minor": 2
}
