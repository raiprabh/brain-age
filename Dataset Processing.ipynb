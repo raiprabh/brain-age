{
 "cells": [
  {
   "cell_type": "code",
   "execution_count": 1,
   "metadata": {},
   "outputs": [],
   "source": [
    "#Set-up\n",
    "import os\n",
    "import numpy as np\n",
    "import pandas as pd\n",
    "import matplotlib.pylab as plt\n",
    "import seaborn as sns\n",
    "import warnings\n",
    "from IPython.display import clear_output\n",
    "import nibabel as nib\n",
    "\n",
    "import torch\n",
    "import torchvision.models as models\n",
    "import torch.optim as optim\n",
    "import torch.nn as nn\n",
    "from torch.optim import lr_scheduler\n",
    "import torch.nn.functional as F\n",
    "import time\n",
    "import copy"
   ]
  },
  {
   "cell_type": "code",
   "execution_count": 2,
   "metadata": {},
   "outputs": [],
   "source": [
    "regression = True"
   ]
  },
  {
   "cell_type": "code",
   "execution_count": 3,
   "metadata": {},
   "outputs": [
    {
     "name": "stdout",
     "output_type": "stream",
     "text": [
      "536\n",
      "536\n"
     ]
    }
   ],
   "source": [
    "# df = pd.read_csv('./Exploration/ixi_demographics.csv')\n",
    "\n",
    "#Collect all pre-processed images from .anat directories\n",
    "skullstripped_img_list = []\n",
    "ori_img_list = []\n",
    "seg_img_list = []\n",
    "file_id = []\n",
    "sample_size = 0\n",
    "root_path = \"/shared/ixi-dataset/\"\n",
    "for i in range(19):\n",
    "    dir_name = root_path + \"IXI-T1-\" + str(i)\n",
    "    anat_directories = [x for x in os.listdir(dir_name) if x.endswith('.anat')]\n",
    "    for anat_directory in anat_directories:\n",
    "        ori_file_name = dir_name + '/' + anat_directory + '/T1_biascorr.nii.gz'\n",
    "        seg_file_name = dir_name + '/' + anat_directory + \"/T1_fast_seg.nii.gz\"\n",
    "        if anat_directory[0:3] == 'IXI' and os.path.exists(ori_file_name) and os.path.exists(seg_file_name):\n",
    "            ori_img = nib.load(ori_file_name).get_data()\n",
    "            seg_img = nib.load(seg_file_name).get_data()\n",
    "            skullstripped_img = ori_img * (seg_img > 0)\n",
    "            ori_img_list.append(ori_img)\n",
    "            seg_img_list.append(seg_img)\n",
    "            skullstripped_img = (skullstripped_img - np.mean(skullstripped_img)) / np.std(skullstripped_img)\n",
    "            skullstripped_img_list.append(skullstripped_img)\n",
    "            file_id.append(anat_directory[3:6])\n",
    "            sample_size += 1\n",
    "            clear_output(wait=True)\n",
    "            print(sample_size)\n",
    "\n",
    "print(len(skullstripped_img_list))\n",
    "n = len(skullstripped_img_list)"
   ]
  },
  {
   "cell_type": "code",
   "execution_count": 4,
   "metadata": {},
   "outputs": [],
   "source": [
    "new_img_list = []\n",
    "\n",
    "for i in range(len(skullstripped_img_list)):    \n",
    "    new_img = skullstripped_img_list[i][16:240,90,:]\n",
    "    #modify the dimensions by cropping and zero-padding so that all the images' sizes become 224*224\n",
    "    d_2 = new_img.shape[1]\n",
    "    if d_2 % 2 == 0:\n",
    "        pad_width = int((224 - d_2) / 2)\n",
    "        new_img = np.pad(np.asarray(new_img),((0,0),(pad_width, pad_width)),\"constant\") \n",
    "    else: \n",
    "        pad_width_0 = int((224 - d_2) / 2)\n",
    "        pad_width_1 = pad_width_0 + 1\n",
    "        new_img = np.pad(np.asarray(new_img),((0,0),(pad_width_0, pad_width_1)),\"constant\") \n",
    "    final_img = np.tile(new_img,(3,1)).reshape((3,224,224))\n",
    "    new_img_list.append(final_img) \n",
    "\n",
    "x = np.asarray(new_img_list)\n",
    "x = torch.Tensor(x)\n",
    "torch.save(x, \"data.pt\")"
   ]
  },
  {
   "cell_type": "code",
   "execution_count": 5,
   "metadata": {},
   "outputs": [],
   "source": [
    "df = pd.read_csv('./demographics.csv')\n",
    "sheet = df.values\n",
    "filtered = list()\n",
    "for i in range(0, len(sheet)):\n",
    "    if sheet[i, 5][0:3] == 'IXI':\n",
    "         filtered.append((sheet[i, 5], sheet[i, 4]))\n",
    "sheet = filtered\n",
    "\n",
    "#Create the labels for the skullstripped images\n",
    "age = list()\n",
    "for i in range(0, len(file_id)):\n",
    "    for patient in sheet:\n",
    "        if patient[0][3:6] == file_id[i]:\n",
    "            age.append(patient[1])\n",
    "\n",
    "if regression == True:\n",
    "    y = np.asarray(age)\n",
    "    y = y.reshape((y.shape[0], 1))\n",
    "else:  \n",
    "    target_age = list()\n",
    "    for i in range(0, len(age)):\n",
    "        current_age = int(round(age[i]))\n",
    "        current_age -= 18\n",
    "        if current_age >= 60:\n",
    "            target_age.append(12)\n",
    "        else:\n",
    "            target_age.append(current_age // 5)\n",
    "    y = np.asarray(target_age)\n",
    "\n",
    "y = torch.Tensor(y)\n",
    "torch.save(y, \"labels.pt\")"
   ]
  },
  {
   "cell_type": "code",
   "execution_count": null,
   "metadata": {},
   "outputs": [],
   "source": []
  }
 ],
 "metadata": {
  "kernelspec": {
   "display_name": "Environment (conda_pytorch_p36)",
   "language": "python",
   "name": "conda_pytorch_p36"
  },
  "language_info": {
   "codemirror_mode": {
    "name": "ipython",
    "version": 3
   },
   "file_extension": ".py",
   "mimetype": "text/x-python",
   "name": "python",
   "nbconvert_exporter": "python",
   "pygments_lexer": "ipython3",
   "version": "3.6.5"
  }
 },
 "nbformat": 4,
 "nbformat_minor": 2
}
