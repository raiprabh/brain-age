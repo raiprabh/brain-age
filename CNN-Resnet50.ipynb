{
 "cells": [
  {
   "cell_type": "code",
   "execution_count": 6,
   "metadata": {},
   "outputs": [],
   "source": [
    "#Set-up\n",
    "import os\n",
    "import numpy as np\n",
    "import pandas as pd\n",
    "import matplotlib.pylab as plt\n",
    "import seaborn as sns\n",
    "import warnings\n",
    "from IPython.display import clear_output\n",
    "import nibabel as nib\n",
    "\n",
    "import torch\n",
    "import torchvision.models as models\n",
    "import torch.optim as optim\n",
    "import torch.nn as nn\n",
    "import torch.nn.functional as F"
   ]
  },
  {
   "cell_type": "code",
   "execution_count": 7,
   "metadata": {},
   "outputs": [],
   "source": [
    "# df = pd.read_csv('./Exploration/ixi_demographics.csv')\n",
    "\n",
    "# #Collect all pre-processed images from .anat directories\n",
    "# skullstripped_img_list = []\n",
    "# ori_img_list = []\n",
    "# seg_img_list = []\n",
    "# file_id = []\n",
    "# sample_size = 0\n",
    "# root_path = \"/shared/ixi-dataset/\"\n",
    "# for i in range(19):\n",
    "#     dir_name = root_path + \"IXI-T1-\" + str(i)\n",
    "#     anat_directories = [x for x in os.listdir(dir_name) if x.endswith('.anat')]\n",
    "#     for anat_directory in anat_directories:\n",
    "#         ori_file_name = dir_name + '/' + anat_directory + '/T1_biascorr.nii.gz'\n",
    "#         seg_file_name = dir_name + '/' + anat_directory + \"/T1_fast_seg.nii.gz\"\n",
    "#         if anat_directory[0:3] == 'IXI' and os.path.exists(ori_file_name) and os.path.exists(seg_file_name):\n",
    "#             ori_img = nib.load(ori_file_name).get_data()\n",
    "#             seg_img = nib.load(seg_file_name).get_data()\n",
    "#             skullstripped_img = ori_img * (seg_img > 0)\n",
    "#             ori_img_list.append(ori_img)\n",
    "#             seg_img_list.append(seg_img)\n",
    "#             skullstripped_img = (skullstripped_img - np.mean(skullstripped_img)) / np.std(skullstripped_img)\n",
    "#             skullstripped_img_list.append(skullstripped_img)\n",
    "#             file_id.append(anat_directory[3:6])\n",
    "#             sample_size += 1\n",
    "#             clear_output(wait=True)\n",
    "#             print(sample_size)\n",
    "\n",
    "# print(len(skullstripped_img_list))"
   ]
  },
  {
   "cell_type": "code",
   "execution_count": 8,
   "metadata": {},
   "outputs": [
    {
     "name": "stdout",
     "output_type": "stream",
     "text": [
      "torch.Size([536, 3, 224, 224]) torch.Size([536, 13])\n"
     ]
    }
   ],
   "source": [
    "data = torch.load(\"/home/prabhjotrai/data.pt\")\n",
    "labels = torch.load(\"labels_13.pt\")\n",
    "print(data.shape,labels.shape)"
   ]
  },
  {
   "cell_type": "code",
   "execution_count": 8,
   "metadata": {},
   "outputs": [
    {
     "name": "stdout",
     "output_type": "stream",
     "text": [
      "16\n",
      "16\n"
     ]
    }
   ],
   "source": [
    "# df = pd.read_csv('./demographics.csv')\n",
    "# sheet = df.values\n",
    "# filtered = list()\n",
    "# for i in range(0, len(sheet)):\n",
    "#     if sheet[i, 5][0:3] == 'IXI':\n",
    "#         filtered.append((sheet[i, 5], sheet[i, 4]))\n",
    "# sheet = filtered\n",
    "\n",
    "# #Create the labels for the skullstripped images\n",
    "# age = list()\n",
    "# for i in range(0, len(file_id)):\n",
    "#     for patient in sheet:\n",
    "#         if patient[0][3:6] == file_id[i]:\n",
    "#             age.append(patient[1])\n",
    "\n",
    "# print(len(age))\n",
    "# onehot_age = list()\n",
    "# for i in range(0, len(age)):\n",
    "#     current_age = int(round(age[i]))\n",
    "#     current_age -= 18\n",
    "#     one_hot = [0 for i in range(13)]\n",
    "#     if current_age >= 60:\n",
    "#         one_hot[-1] = 1\n",
    "#     else:\n",
    "#         one_hot[current_age // 5] = 1\n",
    "#     onehot_age.append(one_hot)\n",
    "# print(len(onehot_age))"
   ]
  },
  {
   "cell_type": "code",
   "execution_count": 124,
   "metadata": {},
   "outputs": [],
   "source": [
    "def train_model(model, optimizer, epochs=1): \n",
    "    \"\"\"Train a model on CIFAR-10 using the PyTorch Module API.\n",
    "    Inputs:\n",
    "    - model: A PyTorch Module giving the model to train.\n",
    "    - optimizer: An Optimizer object we will use to train the model\n",
    "    - epochs: (Optional) A Python integer giving the number of epochs to train for\n",
    "    Returns: Nothing, but prints model accuracies during training.\n",
    "    \"\"\"\n",
    "    model = model.to(device=device) # move the model parameters to CPU/GPU for e in range(epochs):\n",
    "    # move to device, e.g. GPU\n",
    "    for t in range(500):\n",
    "        model.train() # put model to training mode\n",
    "        x = data[1:10,:]\n",
    "        x = x.to(device=device, dtype=dtype) # move to y = y.to(device=device, dtype=torch.long)device, e.g. GPU\n",
    "        y = labels.to(device=device, dtype=torch.long)\n",
    "        scores = model(x)\n",
    "        new_y = torch.argmax(y[1:10,:], 1)\n",
    "        loss = F.cross_entropy(scores,new_y)\n",
    "\n",
    "        # Zero out all of the gradients for the variables which the optimizer # will update.\n",
    "        optimizer.zero_grad()\n",
    "        # This is the backwards pass: compute the gradient of the loss with # respect to each parameter of the model.\n",
    "        loss.backward()\n",
    "        # Actually update the parameters of the model using the gradients\n",
    "\n",
    "        # computed by the backwards pass.\n",
    "        optimizer.step()\n",
    "        if t % print_every == 0:\n",
    "            print('Iteration %d, loss = %.4f' % (t, loss.item())) \n",
    "            # check_accuracy(loader_val, model)\n",
    "            # print()"
   ]
  },
  {
   "cell_type": "code",
   "execution_count": 125,
   "metadata": {},
   "outputs": [],
   "source": [
    "def check_accuracy(data,labels,model):\n",
    "    print('Checking accuracy on test set')   \n",
    "    num_correct = 0\n",
    "    num_samples = 0\n",
    "    model.eval()  # set model to evaluation mode\n",
    "    with torch.no_grad():\n",
    "        data = data.to(device=device, dtype=dtype)  # move to device, e.g. GPU\n",
    "        labels = labels.to(device=device, dtype=torch.long)\n",
    "        scores = model(data)\n",
    "        _, preds = scores.max(1)\n",
    "        num_correct += (preds == labels).sum()\n",
    "        num_samples += preds.size(0)\n",
    "        acc = float(num_correct) / num_samples\n",
    "        print('Got %d / %d correct (%.2f)' % (num_correct, num_samples, 100 * acc))"
   ]
  },
  {
   "cell_type": "code",
   "execution_count": 126,
   "metadata": {},
   "outputs": [
    {
     "name": "stdout",
     "output_type": "stream",
     "text": [
      "using device: cuda\n"
     ]
    }
   ],
   "source": [
    "USE_GPU = True\n",
    "\n",
    "dtype = torch.float32 # we will be using float throughout this tutorial\n",
    "\n",
    "if USE_GPU and torch.cuda.is_available():\n",
    "    device = torch.device('cuda')\n",
    "else:\n",
    "    device = torch.device('cpu')\n",
    "\n",
    "# Constant to control how frequently we print train loss\n",
    "print_every = 100\n",
    "\n",
    "print('using device:', device)"
   ]
  },
  {
   "cell_type": "code",
   "execution_count": 127,
   "metadata": {},
   "outputs": [],
   "source": [
    "# resnet50 = models.resnet50()\n",
    "# def resnet50(num_classes=13, pretrained='imagenet'):\n",
    "#     \"\"\"Constructs a ResNet-50 model.\n",
    "#     \"\"\"\n",
    "#     model = models.resnet50(pretrained=False)\n",
    "#     if pretrained is not None:\n",
    "#         settings = pretrained_settings['resnet50'][pretrained]\n",
    "#         model = load_pretrained(model, num_classes, settings)\n",
    "#     model = modify_resnets(model)\n",
    "#     return model \n",
    "# optimizer = optim.SGD(resnet50.parameters(), lr=1e-3,\n",
    "#                      momentum=0.9, nesterov=True)\n",
    "# model = resnet50(13)\n",
    "# train_model(resnet50,optimizer)"
   ]
  },
  {
   "cell_type": "code",
   "execution_count": 128,
   "metadata": {},
   "outputs": [],
   "source": [
    "class Flatten(nn.Module):\n",
    "    def forward(self, input):\n",
    "        return input.view(input.size(0), -1)"
   ]
  },
  {
   "cell_type": "code",
   "execution_count": 129,
   "metadata": {},
   "outputs": [
    {
     "name": "stdout",
     "output_type": "stream",
     "text": [
      "Iteration 0, loss = 2.4642\n"
     ]
    },
    {
     "ename": "RuntimeError",
     "evalue": "CUDA out of memory. Tried to allocate 9.00 MiB (GPU 0; 15.90 GiB total capacity; 15.03 GiB already allocated; 5.88 MiB free; 102.79 MiB cached)",
     "output_type": "error",
     "traceback": [
      "\u001b[0;31m---------------------------------------------------------------------------\u001b[0m",
      "\u001b[0;31mRuntimeError\u001b[0m                              Traceback (most recent call last)",
      "\u001b[0;32m<ipython-input-129-f5d6de6c5808>\u001b[0m in \u001b[0;36m<module>\u001b[0;34m\u001b[0m\n\u001b[1;32m      6\u001b[0m optimizer = optim.SGD(model.parameters(), lr=1e-3,\n\u001b[1;32m      7\u001b[0m                      momentum=0.9, nesterov=True)\n\u001b[0;32m----> 8\u001b[0;31m \u001b[0mtrain_model\u001b[0m\u001b[0;34m(\u001b[0m\u001b[0mmodel\u001b[0m\u001b[0;34m,\u001b[0m\u001b[0moptimizer\u001b[0m\u001b[0;34m)\u001b[0m\u001b[0;34m\u001b[0m\u001b[0;34m\u001b[0m\u001b[0m\n\u001b[0m",
      "\u001b[0;32m<ipython-input-124-566db798494b>\u001b[0m in \u001b[0;36mtrain_model\u001b[0;34m(model, optimizer, epochs)\u001b[0m\n\u001b[1;32m     21\u001b[0m         \u001b[0moptimizer\u001b[0m\u001b[0;34m.\u001b[0m\u001b[0mzero_grad\u001b[0m\u001b[0;34m(\u001b[0m\u001b[0;34m)\u001b[0m\u001b[0;34m\u001b[0m\u001b[0;34m\u001b[0m\u001b[0m\n\u001b[1;32m     22\u001b[0m         \u001b[0;31m# This is the backwards pass: compute the gradient of the loss with # respect to each parameter of the model.\u001b[0m\u001b[0;34m\u001b[0m\u001b[0;34m\u001b[0m\u001b[0;34m\u001b[0m\u001b[0m\n\u001b[0;32m---> 23\u001b[0;31m         \u001b[0mloss\u001b[0m\u001b[0;34m.\u001b[0m\u001b[0mbackward\u001b[0m\u001b[0;34m(\u001b[0m\u001b[0;34m)\u001b[0m\u001b[0;34m\u001b[0m\u001b[0;34m\u001b[0m\u001b[0m\n\u001b[0m\u001b[1;32m     24\u001b[0m         \u001b[0;31m# Actually update the parameters of the model using the gradients\u001b[0m\u001b[0;34m\u001b[0m\u001b[0;34m\u001b[0m\u001b[0;34m\u001b[0m\u001b[0m\n\u001b[1;32m     25\u001b[0m \u001b[0;34m\u001b[0m\u001b[0m\n",
      "\u001b[0;32m/opt/anaconda3/lib/python3.7/site-packages/torch/tensor.py\u001b[0m in \u001b[0;36mbackward\u001b[0;34m(self, gradient, retain_graph, create_graph)\u001b[0m\n\u001b[1;32m    100\u001b[0m                 \u001b[0mproducts\u001b[0m\u001b[0;34m.\u001b[0m \u001b[0mDefaults\u001b[0m \u001b[0mto\u001b[0m\u001b[0;31m \u001b[0m\u001b[0;31m`\u001b[0m\u001b[0;31m`\u001b[0m\u001b[0;32mFalse\u001b[0m\u001b[0;31m`\u001b[0m\u001b[0;31m`\u001b[0m\u001b[0;34m.\u001b[0m\u001b[0;34m\u001b[0m\u001b[0;34m\u001b[0m\u001b[0m\n\u001b[1;32m    101\u001b[0m         \"\"\"\n\u001b[0;32m--> 102\u001b[0;31m         \u001b[0mtorch\u001b[0m\u001b[0;34m.\u001b[0m\u001b[0mautograd\u001b[0m\u001b[0;34m.\u001b[0m\u001b[0mbackward\u001b[0m\u001b[0;34m(\u001b[0m\u001b[0mself\u001b[0m\u001b[0;34m,\u001b[0m \u001b[0mgradient\u001b[0m\u001b[0;34m,\u001b[0m \u001b[0mretain_graph\u001b[0m\u001b[0;34m,\u001b[0m \u001b[0mcreate_graph\u001b[0m\u001b[0;34m)\u001b[0m\u001b[0;34m\u001b[0m\u001b[0;34m\u001b[0m\u001b[0m\n\u001b[0m\u001b[1;32m    103\u001b[0m \u001b[0;34m\u001b[0m\u001b[0m\n\u001b[1;32m    104\u001b[0m     \u001b[0;32mdef\u001b[0m \u001b[0mregister_hook\u001b[0m\u001b[0;34m(\u001b[0m\u001b[0mself\u001b[0m\u001b[0;34m,\u001b[0m \u001b[0mhook\u001b[0m\u001b[0;34m)\u001b[0m\u001b[0;34m:\u001b[0m\u001b[0;34m\u001b[0m\u001b[0;34m\u001b[0m\u001b[0m\n",
      "\u001b[0;32m/opt/anaconda3/lib/python3.7/site-packages/torch/autograd/__init__.py\u001b[0m in \u001b[0;36mbackward\u001b[0;34m(tensors, grad_tensors, retain_graph, create_graph, grad_variables)\u001b[0m\n\u001b[1;32m     88\u001b[0m     Variable._execution_engine.run_backward(\n\u001b[1;32m     89\u001b[0m         \u001b[0mtensors\u001b[0m\u001b[0;34m,\u001b[0m \u001b[0mgrad_tensors\u001b[0m\u001b[0;34m,\u001b[0m \u001b[0mretain_graph\u001b[0m\u001b[0;34m,\u001b[0m \u001b[0mcreate_graph\u001b[0m\u001b[0;34m,\u001b[0m\u001b[0;34m\u001b[0m\u001b[0;34m\u001b[0m\u001b[0m\n\u001b[0;32m---> 90\u001b[0;31m         allow_unreachable=True)  # allow_unreachable flag\n\u001b[0m\u001b[1;32m     91\u001b[0m \u001b[0;34m\u001b[0m\u001b[0m\n\u001b[1;32m     92\u001b[0m \u001b[0;34m\u001b[0m\u001b[0m\n",
      "\u001b[0;31mRuntimeError\u001b[0m: CUDA out of memory. Tried to allocate 9.00 MiB (GPU 0; 15.90 GiB total capacity; 15.03 GiB already allocated; 5.88 MiB free; 102.79 MiB cached)"
     ]
    }
   ],
   "source": [
    "model = models.resnet50(pretrained=True)\n",
    "removed = list(model.children())[:-1]\n",
    "model= torch.nn.Sequential(*removed)\n",
    "model = torch.nn.Sequential(model,Flatten())\n",
    "model = torch.nn.Sequential(model, torch.nn.Linear(2048,13))\n",
    "optimizer = optim.SGD(model.parameters(), lr=1e-3,\n",
    "                     momentum=0.9, nesterov=True)\n",
    "train_model(model,optimizer)"
   ]
  },
  {
   "cell_type": "code",
   "execution_count": 111,
   "metadata": {},
   "outputs": [
    {
     "name": "stdout",
     "output_type": "stream",
     "text": [
      "Checking accuracy on test set\n",
      "Got 0 / 390 correct (0.00)\n"
     ]
    }
   ],
   "source": [
    "check_accuracy(data[1:10,:], torch.argmax(labels[1:10,:]),model)"
   ]
  },
  {
   "cell_type": "code",
   "execution_count": null,
   "metadata": {},
   "outputs": [],
   "source": []
  }
 ],
 "metadata": {
  "kernelspec": {
   "display_name": "Python 3",
   "language": "python",
   "name": "python3"
  },
  "language_info": {
   "codemirror_mode": {
    "name": "ipython",
    "version": 3
   },
   "file_extension": ".py",
   "mimetype": "text/x-python",
   "name": "python",
   "nbconvert_exporter": "python",
   "pygments_lexer": "ipython3",
   "version": "3.7.1"
  }
 },
 "nbformat": 4,
 "nbformat_minor": 2
}
