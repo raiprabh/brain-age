{
 "cells": [
  {
   "cell_type": "code",
   "execution_count": 1,
   "metadata": {},
   "outputs": [],
   "source": [
    "import pandas as pd\n",
    "import os\n",
    "from Constants.directory_paths import fcp_data_directories_with_demographics, fcp_root\n",
    "import numpy as np\n",
    "import matplotlib.pylab as plt\n",
    "import seaborn as sns"
   ]
  },
  {
   "cell_type": "markdown",
   "metadata": {},
   "source": [
    "### FCP Dataset\n",
    "\n",
    "Cleaning the demographics information"
   ]
  },
  {
   "cell_type": "code",
   "execution_count": 2,
   "metadata": {},
   "outputs": [
    {
     "name": "stdout",
     "output_type": "stream",
     "text": [
      "Beijing_Zang 198\n",
      "Milwaukee_b 46\n",
      "NewYork_b 20\n",
      "PaloAlto 17\n",
      "AnnArbor_a 13\n",
      "Bangor 20\n",
      "Oulu 103\n",
      "SaintLouis 31\n",
      "Berlin_Margulies 26\n",
      "AnnArbor_b 35\n",
      "ICBM 86\n",
      "Munchen 16\n",
      "Atlanta 28\n",
      "Baltimore 23\n",
      "NewYork_a_ADHD 25\n",
      "Oxford 22\n",
      "NewYork_a 59\n",
      "Cambridge_Buckner 198\n",
      "Leiden_2200 19\n",
      "Newark 18\n",
      "Leiden_2180 12\n",
      "Queensland 19\n"
     ]
    },
    {
     "name": "stderr",
     "output_type": "stream",
     "text": [
      "/home/ubuntu/anaconda3/envs/pytorch_p36/lib/python3.6/site-packages/ipykernel/__main__.py:10: FutureWarning: read_table is deprecated, use read_csv instead.\n"
     ]
    }
   ],
   "source": [
    "concatenated_frame = []\n",
    "column_names = ['subject', 'serial_no', 'age', 'sex', 'hospital', 'group', 'processed_data_path', 'type']\n",
    "\n",
    "no_mprage_data_directory = ['NewHaven_b', 'Leipzig', 'Dallas', 'Pittsburgh', 'NewHaven_a']\n",
    "currupted_data_directory = ['Orangeburg']\n",
    "np_mprage_data_file = { 'Newark': 'sub46570' }\n",
    "\n",
    "for directory in fcp_data_directories_with_demographics:\n",
    "    if directory not in no_mprage_data_directory and directory not in currupted_data_directory:\n",
    "        data = pd.read_table(fcp_root + directory + '/' + directory + '_demographics.txt', sep='\\t', header=None, usecols=[0,1,2,3])\n",
    "        df = pd.DataFrame(data)\n",
    "        df.columns = ['subject', 'serial_no', 'sex', 'age'] if directory == 'NewYork_a' or directory == 'NewYork_a_ADHD' else ['subject', 'serial_no', 'age', 'sex']\n",
    "        df['group'] = 'NA'\n",
    "        df['type'] = 'fcp'\n",
    "        df['processed_data_path'] = ['/shared/fcp/' + str(t) for t in df['subject']]\n",
    "        df['hospital'] = directory\n",
    "        entries = list(df['subject'])\n",
    "        if len(entries) != len(set(entries)):\n",
    "            raise('duplicate entries found!')\n",
    "        df = df[(df.age > 17.99) & (df.age < 100.00)]\n",
    "        if directory in np_mprage_data_file:\n",
    "            df = df[df.subject != np_mprage_data_file[directory]]\n",
    "        print(directory + ' ' + str(len(df)))\n",
    "        df = df.reindex(columns=column_names)\n",
    "        concatenated_frame.append(df)\n",
    "\n",
    "df = pd.concat(concatenated_frame, ignore_index=True)"
   ]
  },
  {
   "cell_type": "markdown",
   "metadata": {},
   "source": [
    "### IXI Dataset\n",
    "\n",
    "We removed the duplicate entries from ixi demographics file manually, checked which files were missing and added the hospital names. Created a CSV file for the same and uploaded to this machine."
   ]
  },
  {
   "cell_type": "code",
   "execution_count": 3,
   "metadata": {},
   "outputs": [],
   "source": [
    "data = pd.read_csv('./ixi_demographics.csv')"
   ]
  },
  {
   "cell_type": "code",
   "execution_count": 4,
   "metadata": {},
   "outputs": [],
   "source": [
    "df_ixi = pd.DataFrame(data)\n",
    "df_ixi.columns = ['serial_no', 'sex', 'hospital', 'age', 'subject']\n",
    "df_ixi['group'] = 'NA'\n",
    "df_ixi['type'] = 'ixi'\n",
    "df_ixi['processed_data_path'] = ['/shared/ixi/' + str(t) for t in df_ixi['subject']]\n",
    "df_ixi = df_ixi.reindex(columns=column_names)\n",
    "concatenated_frame.append(df_ixi)"
   ]
  },
  {
   "cell_type": "code",
   "execution_count": 5,
   "metadata": {},
   "outputs": [],
   "source": [
    "df = pd.concat(concatenated_frame, ignore_index=True)"
   ]
  },
  {
   "cell_type": "code",
   "execution_count": 6,
   "metadata": {},
   "outputs": [],
   "source": [
    "def plot_statistics(data_frame):\n",
    "    print('There are {} patients'.format(len(data_frame)))\n",
    "    print('There are {} hospitals'.format(len(data_frame.hospital.unique())))\n",
    "    print('There are {:.2f}% of women'.format(100*np.mean(data_frame.sex == 'f')))\n",
    "    print('Age statistics : ')\n",
    "    print(data_frame.age.describe())\n",
    "\n",
    "    # We plot the patient count over hospitals\n",
    "    plt.figure(figsize=(30,20)) \n",
    "    plt.subplot(121)\n",
    "    sns.countplot(y='hospital', data=data_frame)\n",
    "    plt.title('Figure 1. Patient distribution per hospital')\n",
    "\n",
    "    # We plot the age distribution over hospitals\n",
    "    plt.subplot(122)\n",
    "    sns.boxplot(x='age', y='hospital', data=data_frame)\n",
    "    plt.title('Figure 2. Age distribution per hospital');\n",
    "\n",
    "def plot_age_distribution(data_frame):\n",
    "    plt.figure(figsize=(20,10))\n",
    "    plt.subplot(121)\n",
    "    sns.distplot(data_frame[\"age\"], bins=20, kde=False, label='Number of Subjects')\n",
    "    plt.show()"
   ]
  },
  {
   "cell_type": "code",
   "execution_count": null,
   "metadata": {},
   "outputs": [
    {
     "name": "stdout",
     "output_type": "stream",
     "text": [
      "There are 1597 patients\n",
      "There are 25 hospitals\n",
      "There are 52.66% of women\n",
      "Age statistics : \n",
      "count    1597.000000\n",
      "mean       35.599132\n",
      "std        17.491271\n",
      "min        18.000000\n",
      "25%        22.000000\n",
      "50%        27.000000\n",
      "75%        48.052019\n",
      "max        86.318960\n",
      "Name: age, dtype: float64\n"
     ]
    }
   ],
   "source": [
    "plot_statistics(df)"
   ]
  },
  {
   "cell_type": "code",
   "execution_count": null,
   "metadata": {},
   "outputs": [],
   "source": [
    "plot_age_distribution(df)"
   ]
  },
  {
   "cell_type": "markdown",
   "metadata": {},
   "source": [
    "#### ADNI Dataset\n",
    "\n",
    "Here we concatenate ADNI dataset to our existing data."
   ]
  },
  {
   "cell_type": "code",
   "execution_count": null,
   "metadata": {},
   "outputs": [],
   "source": [
    "from Constants.directory_paths import adni_root\n",
    "data = pd.read_csv('./ADNI1_Annual_2_Yr_1.5T_6_01_2019.csv')"
   ]
  },
  {
   "cell_type": "code",
   "execution_count": null,
   "metadata": {},
   "outputs": [],
   "source": [
    "df_adni = pd.DataFrame(data)\n",
    "df_adni = df_adni[['Image Data ID', 'Age', 'Sex', 'Group']]\n",
    "df_adni['hospital'] = 'NA'\n",
    "df_adni['type'] = 'adni'\n",
    "df_adni['Sex'] = [t.lower() for t in df_adni['Sex']]\n",
    "df_adni['serial_no'] = [t+1 for t in range(len(df_adni))]\n",
    "df_adni['processed_data_path'] = [adni_root + 'I' + str(t) for t in df_adni['Image Data ID']]\n",
    "df_adni.columns = ['subject', 'age', 'sex', 'group', 'hospital', 'serial_no', 'processed_data_path']\n",
    "df_adni = df_adni.reindex(columns=column_names)\n",
    "concatenated_frame.append(df_adni)"
   ]
  },
  {
   "cell_type": "code",
   "execution_count": null,
   "metadata": {},
   "outputs": [],
   "source": [
    "df = pd.concat(concatenated_frame, ignore_index=True)"
   ]
  },
  {
   "cell_type": "code",
   "execution_count": null,
   "metadata": {},
   "outputs": [],
   "source": [
    "df"
   ]
  },
  {
   "cell_type": "code",
   "execution_count": null,
   "metadata": {},
   "outputs": [],
   "source": [
    "plot_statistics(df)"
   ]
  },
  {
   "cell_type": "code",
   "execution_count": null,
   "metadata": {},
   "outputs": [],
   "source": [
    "plot_age_distribution(df)"
   ]
  }
 ],
 "metadata": {
  "kernelspec": {
   "display_name": "Environment (conda_pytorch_p36)",
   "language": "python",
   "name": "conda_pytorch_p36"
  },
  "language_info": {
   "codemirror_mode": {
    "name": "ipython",
    "version": 3
   },
   "file_extension": ".py",
   "mimetype": "text/x-python",
   "name": "python",
   "nbconvert_exporter": "python",
   "pygments_lexer": "ipython3",
   "version": "3.6.5"
  }
 },
 "nbformat": 4,
 "nbformat_minor": 2
}
