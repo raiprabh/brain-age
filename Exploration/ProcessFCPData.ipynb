{
 "cells": [
  {
   "cell_type": "code",
   "execution_count": 1,
   "metadata": {},
   "outputs": [],
   "source": [
    "import os\n",
    "import numpy as np\n",
    "import pandas as pd\n",
    "import matplotlib.pylab as plt\n",
    "import seaborn as sns\n",
    "import warnings\n",
    "warnings.filterwarnings(\"ignore\")\n",
    "sns.set_style('white')\n",
    "plt.set_cmap('gist_gray')\n",
    "\n",
    "\n",
    "# We also install a package to read NiFTI files\n",
    "import nibabel as nib\n",
    "\n",
    "import torch\n",
    "import torchvision.models as models\n",
    "import torch.optim as optim\n",
    "import torch.nn as nn\n",
    "import torch.nn.functional as F"
   ]
  },
  {
   "cell_type": "code",
   "execution_count": 2,
   "metadata": {},
   "outputs": [
    {
     "name": "stdout",
     "output_type": "stream",
     "text": [
      "The subjects that are under 18 in Baltimore are:\n",
      "There are a total of 0 subjects.\n",
      "The subjects that are under 18 in Bangor are:\n",
      "There are a total of 0 subjects.\n",
      "The subjects that are under 18 in Beijing_Zang are:\n",
      "There are a total of 0 subjects.\n",
      "The subjects that are under 18 in Berlin_Margulies are:\n",
      "There are a total of 0 subjects.\n",
      "The subjects that are under 18 in Cambridge_Buckner are:\n",
      "There are a total of 0 subjects.\n",
      "The subjects that are under 18 in Dallas are:\n",
      "There are a total of 0 subjects.\n",
      "The subjects that are under 18 in ICBM are:\n",
      "There are a total of 0 subjects.\n",
      "The subjects that are under 18 in Leiden_2180 are:\n",
      "There are a total of 0 subjects.\n",
      "The subjects that are under 18 in Leiden_2200 are:\n",
      "There are a total of 0 subjects.\n",
      "The subjects that are under 18 in Leipzig are:\n",
      "There are a total of 0 subjects.\n",
      "The subjects that are under 18 in Milwaukee_b are:\n",
      "There are a total of 0 subjects.\n",
      "The subjects that are under 18 in Munchen are:\n",
      "There are a total of 0 subjects.\n",
      "The subjects that are under 18 in Newark are:\n",
      "There are a total of 0 subjects.\n",
      "The subjects that are under 18 in NewHaven_a are:\n",
      "There are a total of 0 subjects.\n",
      "The subjects that are under 18 in NewHaven_b are:\n",
      "There are a total of 0 subjects.\n",
      "The subjects that are under 18 in Oulu are:\n",
      "There are a total of 0 subjects.\n",
      "The subjects that are under 18 in Oxford are:\n",
      "There are a total of 0 subjects.\n",
      "The subjects that are under 18 in PaloAlto are:\n",
      "There are a total of 0 subjects.\n",
      "The subjects that are under 18 in Pittsburgh are:\n",
      "There are a total of 0 subjects.\n",
      "The subjects that are under 18 in Queensland are:\n",
      "There are a total of 0 subjects.\n",
      "The subjects that are under 18 in SaintLouis are:\n",
      "There are a total of 0 subjects.\n",
      "The subjects that are under 18 in Atlanta are:\n",
      "There are a total of 0 subjects.\n",
      "The subjects that are under 18 in AnnArbor_a are:\n",
      "sub16960 13.58\n",
      "sub20317 15.92\n",
      "sub30421 17.58\n",
      "sub38614 14.91\n",
      "sub45660 16.67\n",
      "sub46727 13.83\n",
      "sub49687 13.41\n",
      "sub70106 17.42\n",
      "sub82334 14.92\n",
      "sub86367 15\n",
      "sub87745 14.17\n",
      "sub96621 15.56\n",
      "There are a total of 12 subjects.\n",
      "The subjects that are under 18 in AnnArbor_b are:\n",
      "There are a total of 0 subjects.\n",
      "The subjects that are under 18 in NewYork_b are:\n",
      "There are a total of 0 subjects.\n",
      "The subjects that are under 18 in NewYork_a are:\n",
      "sub02503 9.30\n",
      "\n",
      "sub04856 9.27\n",
      "\n",
      "sub15213 16.58\n",
      "\n",
      "sub20732 11.07\n",
      "\n",
      "sub26267 15.92\n",
      "\n",
      "sub28795 10.71\n",
      "\n",
      "sub29935 16.95\n",
      "\n",
      "sub31671 12.02\n",
      "\n",
      "sub38088 16.16\n",
      "\n",
      "sub44979 15.65\n",
      "\n",
      "sub46856 8.82\n",
      "\n",
      "sub54541 7.88\n",
      "\n",
      "sub58313 16.42\n",
      "\n",
      "sub59589 14.61\n",
      "\n",
      "sub61001 13.46\n",
      "\n",
      "sub61241 15.43\n",
      "\n",
      "sub66941 14.59\n",
      "\n",
      "sub70752 15.58\n",
      "\n",
      "sub73490 12.23\n",
      "\n",
      "sub84978 12.68\n",
      "\n",
      "sub88286 15.4\n",
      "\n",
      "sub91196 9.21\n",
      "\n",
      "sub93975 12.73\n",
      "\n",
      "sub96705 13.38\n",
      "\n",
      "sub98061 9.48\n",
      "\n",
      "There are a total of 25 subjects.\n",
      "The subjects that are under 18 in NewYork_a_ADHD are:\n",
      "There are a total of 0 subjects.\n"
     ]
    }
   ],
   "source": [
    "#This part is for figuring out which subjects in the fcp dataset are under 18\n",
    "\n",
    "# from IPython.display import clear_output\n",
    "dir_name = \"../../../../shared/fcp\"\n",
    "fcp_directories = [x for x in os.listdir(dir_name)]\n",
    "for fcp_directory in fcp_directories:\n",
    "    if fcp_directory != \"invalid\" and fcp_directory != \".ipynb_checkpoints\":\n",
    "\n",
    "        filename = dir_name + \"/\" + fcp_directory + \"/\" + fcp_directory + \"_demographics.txt\"\n",
    "\n",
    "        with open(filename) as f:\n",
    "            data = f.readlines()\n",
    "\n",
    "        f = open(filename)\n",
    "        data = f.readlines()\n",
    "        under18_data = []\n",
    "        print(\"The subjects that are under 18 in\",fcp_directory,\"are:\")\n",
    "        for line in data:\n",
    "            data = line.split(\"\\t\")\n",
    "            if fcp_directory == \"NewYork_a\" or fcp_directory == \"NewYork_a_ADHD\":\n",
    "                age = data[3]  \n",
    "            else: \n",
    "                age = data[2]\n",
    "            if float(age) < 18:\n",
    "                under18_data.append(data)\n",
    "                print(data[0],age)\n",
    "        print(\"There are a total of\", len(under18_data),\"subjects.\")\n",
    "        f.close()\n"
   ]
  },
  {
   "cell_type": "code",
   "execution_count": 3,
   "metadata": {},
   "outputs": [],
   "source": [
    "#This part is for gathering all the skullstripped images in fcp dataset into one giant array\n",
    "from IPython.display import clear_output\n",
    "skullstripped_img_list = []\n",
    "file_id = []\n",
    "sample_size = 0\n",
    "for fcp_directory in fcp_directories:\n",
    "    sub_directories = [x for x in os.listdir(dir_name + \"/\" + fcp_directory) if x.startswith('sub')]\n",
    "    for sub_directory in sub_directories:\n",
    "        anat_directory = [x for x in os.listdir(dir_name + \"/\" + fcp_directory + \"/\" + sub_directory) if x.startswith('anat')]\n",
    "        skullstripped_file_name = dir_name + \"/\" + fcp_directory + \"/\" + sub_directory + '/' + anat_directory[0] + \"/\" + 'mprage_skullstripped.nii.gz'\n",
    "        if os.path.exists(skullstripped_file_name):\n",
    "            skullstripped_img = nib.load(skullstripped_file_name).get_data()\n",
    "            skullstripped_img_list.append(skullstripped_img)\n",
    "            file_id.append(sub_directory[3:])\n",
    "            sample_size += 1\n",
    "            clear_output(wait=True)\n",
    "\n",
    "# print(len(skullstripped_img_list))\n"
   ]
  },
  {
   "cell_type": "code",
   "execution_count": 4,
   "metadata": {},
   "outputs": [
    {
     "name": "stdout",
     "output_type": "stream",
     "text": [
      "1146\n"
     ]
    }
   ],
   "source": [
    "# print(skullstripped_img_list[100].shape)\n",
    "print(len(file_id))"
   ]
  },
  {
   "cell_type": "code",
   "execution_count": 28,
   "metadata": {},
   "outputs": [
    {
     "name": "stdout",
     "output_type": "stream",
     "text": [
      "('AnnArbor_a_sub04111/', 25.63)\n",
      "[465, 466, 467, 468, 469, 470, 471, 472, 473, 474, 475, 476, 477, 478, 479, 480, 481, 482, 483, 484, 485, 486, 487, 488, 606, 607, 608, 609, 610, 611, 612, 614, 615, 616, 617, 618, 619, 620, 621, 622, 623, 624, 625, 626, 627, 628, 629, 630, 631, 632, 633, 634, 635, 636, 637, 638, 639, 640, 641, 642, 723, 724, 725, 726, 727, 728, 729, 730, 731, 732, 733, 734, 735, 736, 737, 738, 739, 740, 741, 742, 743, 744, 745, 746, 747, 748, 749, 750, 751, 752, 753, 754, 755, 756, 757, 900, 901, 902, 903, 904, 905, 906, 907, 908, 909, 910, 911, 912, 913, 914, 915, 916]\n"
     ]
    }
   ],
   "source": [
    "#This block is for finding out which subjects' information is missing in the demographics.csv file\n",
    "#And save only those data where age information is available in the demographics.csv file\n",
    "df = pd.read_csv('../demographics.csv')\n",
    "sheet = df.values\n",
    "filtered = list()\n",
    "for i in range(0, len(sheet)):\n",
    "    if sheet[i, 1]== 'fcp':\n",
    "        filtered.append((sheet[i, 5], sheet[i, 4]))\n",
    "sheet = filtered\n",
    "print(sheet[0])\n",
    "age = []\n",
    "index = list()\n",
    "new_data = []\n",
    "missing = []\n",
    "\n",
    "# for subject in sheet: \n",
    "#     subject_id.append(subject[0][-6:-1])\n",
    "#     subject_age.append(subject[1])\n",
    "# print(len(subject_id),len(subject_age))\n",
    "    \n",
    "    \n",
    "for i in range(0, len(file_id)):\n",
    "    in_sheet = False\n",
    "    for patient in sheet: \n",
    "        if patient[0][-6:-1] == file_id[i]:\n",
    "            age.append(patient[1])\n",
    "            in_sheet = True\n",
    "            break\n",
    "    if not in_sheet:\n",
    "            missing.append(i)\n",
    "print(missing)"
   ]
  },
  {
   "cell_type": "code",
   "execution_count": 29,
   "metadata": {},
   "outputs": [
    {
     "name": "stdout",
     "output_type": "stream",
     "text": [
      "1034\n"
     ]
    }
   ],
   "source": [
    "print(len(age))"
   ]
  },
  {
   "cell_type": "code",
   "execution_count": 30,
   "metadata": {},
   "outputs": [
    {
     "name": "stdout",
     "output_type": "stream",
     "text": [
      "1034\n"
     ]
    }
   ],
   "source": [
    "onehot_age = list()\n",
    "for i in range(0, len(age)):\n",
    "    current_age = int(round(age[i]))\n",
    "    current_age -= 18\n",
    "    one_hot = [0 for i in range(13)]\n",
    "    if current_age >= 60:\n",
    "        one_hot[-1] = 1\n",
    "    else:\n",
    "        one_hot[current_age // 5] = 1\n",
    "    onehot_age.append(one_hot)\n",
    "print(len(onehot_age))"
   ]
  },
  {
   "cell_type": "code",
   "execution_count": 33,
   "metadata": {},
   "outputs": [
    {
     "name": "stdout",
     "output_type": "stream",
     "text": [
      "torch.Size([1034, 13])\n",
      "(1034,)\n"
     ]
    }
   ],
   "source": [
    "#Saving three types of labels\n",
    "# age = torch.from_numpy(np.asarray(age))\n",
    "# torch.save(age,\"fcp_ages.pt\")\n",
    "# data = torch.load(\"fcp_ages.pt\")\n",
    "# print(data.shape)\n",
    "\n",
    "# labels_13 = torch.from_numpy(np.asarray(onehot_age))\n",
    "# torch.save(labels_13,\"fcp_labels_13.pt\")\n",
    "# data = torch.load(\"fcp_labels_13.pt\")\n",
    "# print(data.shape)\n",
    "\n",
    "# age_class = np.argmax(np.asarray(onehot_age),axis=1)\n",
    "# labels_1 = torch.from_numpy(age_class)\n",
    "# torch.save(age_class,\"fcp_labels_1.pt\")\n",
    "# data = torch.load(\"fcp_labels_1.pt\")\n",
    "# print(data.shape)"
   ]
  },
  {
   "cell_type": "code",
   "execution_count": 27,
   "metadata": {},
   "outputs": [
    {
     "name": "stdout",
     "output_type": "stream",
     "text": [
      "1034\n",
      "torch.Size([1034, 3, 224, 224])\n",
      "torch.Size([1034, 3, 224, 224])\n"
     ]
    }
   ],
   "source": [
    "#Make sure all the data in fcp_data have corresponding age labels\n",
    "# fcp_data = torch.load(\"../../fcp_data.pt\")\n",
    "# indices = []\n",
    "# for i in range(fcp_data.shape[0]):\n",
    "#     if i not in missing:\n",
    "#         indices.append(i)\n",
    "# print(len(indices))\n",
    "# new_fcp_data = fcp_data[indices,:]\n",
    "# print(new_fcp_data.shape)\n",
    "\n",
    "# torch.save(new_fcp_data,\"fcp_data.pt\")\n",
    "# data = torch.load(\"fcp_data.pt\")\n",
    "# print(data.shape)    "
   ]
  },
  {
   "cell_type": "code",
   "execution_count": 14,
   "metadata": {},
   "outputs": [
    {
     "name": "stdout",
     "output_type": "stream",
     "text": [
      "Shape of the MRI : torch.Size([1146, 3, 224, 224])\n",
      "torch.Size([1146, 3, 224, 224])\n"
     ]
    }
   ],
   "source": [
    "#Slice the most central/important parts of the images (so that they have the same shape) \n",
    "#and convert the array into a tensor\n",
    "import numpy as np\n",
    "new_img_list = []\n",
    "\n",
    "for i in range(len(skullstripped_img_list)):  \n",
    "    d_0 = skullstripped_img_list[i].shape[0]\n",
    "    d_1 = skullstripped_img_list[i].shape[1]\n",
    "    d_2 = skullstripped_img_list[i].shape[2]\n",
    "    new_img = skullstripped_img_list[i][:,int(d_1 / 2),:]\n",
    "    if d_0 > 224:\n",
    "        start_0 = int((d_0 - 224) / 2)\n",
    "        new_img = new_img[start_0:start_0 + 224, :]\n",
    "    else:\n",
    "        if d_0 % 2 == 0:\n",
    "            pad_width = int((224 - d_0) / 2)\n",
    "            new_img = np.pad(np.asarray(new_img),((pad_width, pad_width),(0,0)),\"constant\") \n",
    "        else: \n",
    "            pad_width_0 = int((224 - d_0) / 2)\n",
    "            pad_width_1 = pad_width_0 + 1\n",
    "            new_img = np.pad(np.asarray(new_img),((pad_width_0, pad_width_1),(0,0)),\"constant\") \n",
    "\n",
    "    #modify the dimensions by cropping and zero-padding so that all the images' sizes become 224*224\n",
    "    if d_2 > 224:\n",
    "        start_2 = int((d_2 - 224) / 2)\n",
    "        new_img = new_img[:,start_2:start_2 + 224]\n",
    "    else:\n",
    "        if d_2 % 2 == 0:\n",
    "            pad_width = int((224 - d_2) / 2)\n",
    "            new_img = np.pad(np.asarray(new_img),((0,0),(pad_width, pad_width)),\"constant\") \n",
    "        else: \n",
    "            pad_width_0 = int((224 - d_2) / 2)\n",
    "            pad_width_1 = pad_width_0 + 1\n",
    "            new_img = np.pad(np.asarray(new_img),((0,0),(pad_width_0, pad_width_1)),\"constant\") \n",
    "    final_img = np.tile(new_img,(3,1)).reshape((3,224,224))\n",
    "    new_img_list.append(final_img)    \n",
    "new_img_list = torch.from_numpy(np.asarray(new_img_list))\n",
    "print('Shape of the MRI : {}'.format(new_img_list.shape))\n",
    "\n",
    "#Saves the tensor\n",
    "torch.save(new_img_list,\"fcp_data.pt\")\n",
    "data = torch.load(\"fcp_data.pt\")\n",
    "print(data.shape)"
   ]
  },
  {
   "cell_type": "code",
   "execution_count": 4,
   "metadata": {},
   "outputs": [
    {
     "name": "stdout",
     "output_type": "stream",
     "text": [
      "torch.Size([1146, 3, 224, 224])\n"
     ]
    }
   ],
   "source": []
  },
  {
   "cell_type": "code",
   "execution_count": null,
   "metadata": {},
   "outputs": [],
   "source": []
  }
 ],
 "metadata": {
  "kernelspec": {
   "display_name": "Environment (conda_pytorch_p36)",
   "language": "python",
   "name": "conda_pytorch_p36"
  },
  "language_info": {
   "codemirror_mode": {
    "name": "ipython",
    "version": 3
   },
   "file_extension": ".py",
   "mimetype": "text/x-python",
   "name": "python",
   "nbconvert_exporter": "python",
   "pygments_lexer": "ipython3",
   "version": "3.6.5"
  }
 },
 "nbformat": 4,
 "nbformat_minor": 2
}
