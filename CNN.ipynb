{
 "cells": [
  {
   "cell_type": "code",
   "execution_count": 3,
   "metadata": {},
   "outputs": [],
   "source": [
    "#Set-up\n",
    "import os\n",
    "import numpy as np\n",
    "import pandas as pd\n",
    "import matplotlib.pylab as plt\n",
    "import seaborn as sns\n",
    "import warnings\n",
    "from IPython.display import clear_output\n",
    "import nibabel as nib\n",
    "\n",
    "import torch\n",
    "import torchvision.models as models\n",
    "import torch.optim as optim\n",
    "import torch.nn as nn\n",
    "import torch.nn.functional as F"
   ]
  },
  {
   "cell_type": "code",
   "execution_count": 4,
   "metadata": {},
   "outputs": [
    {
     "name": "stdout",
     "output_type": "stream",
     "text": [
      "536\n",
      "536\n"
     ]
    }
   ],
   "source": [
    "df = pd.read_csv('./Exploration/ixi_demographics.csv')\n",
    "\n",
    "#Collect all pre-processed images from .anat directories\n",
    "skullstripped_img_list = []\n",
    "ori_img_list = []\n",
    "seg_img_list = []\n",
    "file_id = []\n",
    "sample_size = 0\n",
    "root_path = \"/shared/ixi-dataset/\"\n",
    "for i in range(19):\n",
    "    dir_name = root_path + \"IXI-T1-\" + str(i)\n",
    "    anat_directories = [x for x in os.listdir(dir_name) if x.endswith('.anat')]\n",
    "    for anat_directory in anat_directories:\n",
    "        ori_file_name = dir_name + '/' + anat_directory + '/T1_biascorr.nii.gz'\n",
    "        seg_file_name = dir_name + '/' + anat_directory + \"/T1_fast_seg.nii.gz\"\n",
    "        if anat_directory[0:3] == 'IXI' and os.path.exists(ori_file_name) and os.path.exists(seg_file_name):\n",
    "            ori_img = nib.load(ori_file_name).get_data()\n",
    "            seg_img = nib.load(seg_file_name).get_data()\n",
    "            skullstripped_img = ori_img * (seg_img > 0)\n",
    "            ori_img_list.append(ori_img)\n",
    "            seg_img_list.append(seg_img)\n",
    "            skullstripped_img = (skullstripped_img - np.mean(skullstripped_img)) / np.std(skullstripped_img)\n",
    "            skullstripped_img_list.append(skullstripped_img)\n",
    "            file_id.append(anat_directory[3:6])\n",
    "            sample_size += 1\n",
    "            clear_output(wait=True)\n",
    "            print(sample_size)\n",
    "\n",
    "print(len(skullstripped_img_list))"
   ]
  },
  {
   "cell_type": "code",
   "execution_count": 5,
   "metadata": {},
   "outputs": [],
   "source": [
    "data = torch.load(\"data.pt\")"
   ]
  },
  {
   "cell_type": "code",
   "execution_count": 36,
   "metadata": {},
   "outputs": [],
   "source": [
    "df = pd.read_csv('./demographics.csv')\n",
    "sheet = df.values\n",
    "filtered = list()\n",
    "for i in range(0, len(sheet)):\n",
    "    if sheet[i, 5][0:3] == 'IXI':\n",
    "        filtered.append((sheet[i, 5], sheet[i, 4]))\n",
    "sheet = filtered\n",
    "\n",
    "#Create the labels for the skullstripped images\n",
    "age = list()\n",
    "for i in range(0, len(file_id)):\n",
    "    for patient in sheet:\n",
    "        if patient[0][3:6] == file_id[i]:\n",
    "            age.append(patient[1])\n",
    "\n",
    "onehot_age = list()\n",
    "for i in range(0, len(age)):\n",
    "    current_age = int(round(age[i]))\n",
    "    current_age -= 18\n",
    "    one_hot = [0 for i in range(13)]\n",
    "    if current_age >= 60:\n",
    "        one_hot[-1] = 1\n",
    "    else:\n",
    "        one_hot[current_age // 5] = 1\n",
    "    onehot_age.append(one_hot)\n",
    "print(onehot_age)"
   ]
  },
  {
   "cell_type": "code",
   "execution_count": null,
   "metadata": {},
   "outputs": [],
   "source": [
    "def train_model(model, optimizer, epochs=1): \n",
    "    \"\"\"Train a model on CIFAR-10 using the PyTorch Module API.\n",
    "    Inputs:\n",
    "    - model: A PyTorch Module giving the model to train.\n",
    "    - optimizer: An Optimizer object we will use to train the model\n",
    "    - epochs: (Optional) A Python integer giving the number of epochs to train for\n",
    "    Returns: Nothing, but prints model accuracies during training.\n",
    "    \"\"\"\n",
    "    model = model.to(device=device) # move the model parameters to CPU/GPU for e in range(epochs):\n",
    "    # move to device, e.g. GPU\n",
    "    for t in range(500):\n",
    "        model.train() # put model to training mode\n",
    "        x = new_img_list\n",
    "        x = x.to(device=device, dtype=dtype) # move to y = y.to(device=device, dtype=torch.long)device, e.g. GPU\n",
    "        scores = model(x)\n",
    "        loss = F.cross_entropy(scores, np.asarray(Y[i]))\n",
    "\n",
    "        # Zero out all of the gradients for the variables which the optimizer # will update.\n",
    "        optimizer.zero_grad()\n",
    "        # This is the backwards pass: compute the gradient of the loss with # respect to each parameter of the model.\n",
    "        loss.backward()\n",
    "        # Actually update the parameters of the model using the gradients\n",
    "\n",
    "        # computed by the backwards pass.\n",
    "        optimizer.step()\n",
    "        if t % print_every == 0:\n",
    "            print('Iteration %d, loss = %.4f' % (t, loss.item())) \n",
    "            # check_accuracy(loader_val, model)\n",
    "            # print()"
   ]
  },
  {
   "cell_type": "code",
   "execution_count": null,
   "metadata": {},
   "outputs": [],
   "source": [
    "def flatten(x):\n",
    "    N = x.shape[0] # read in N, C, H, W\n",
    "    return x.view(N, -1) \n",
    "\n",
    "class Flatten(nn.Module):\n",
    "    def forward(self, x):\n",
    "        return flatten(x)"
   ]
  },
  {
   "cell_type": "code",
   "execution_count": null,
   "metadata": {},
   "outputs": [],
   "source": [
    "USE_GPU = True\n",
    "\n",
    "dtype = torch.float32 # we will be using float throughout this tutorial\n",
    "\n",
    "if USE_GPU and torch.cuda.is_available():\n",
    "    device = torch.device('cuda')\n",
    "else:\n",
    "    device = torch.device('cpu')\n",
    "\n",
    "# Constant to control how frequently we print train loss\n",
    "print_every = 100\n",
    "\n",
    "print('using device:', device)"
   ]
  },
  {
   "cell_type": "code",
   "execution_count": null,
   "metadata": {},
   "outputs": [],
   "source": [
    "resnet50 = models.resnet50()\n",
    "optimizer = optim.SGD(resnet50.parameters(), lr=1e-3,\n",
    "                     momentum=0.9, nesterov=True)\n",
    "\n",
    "train_mine(resnet50,optimizer)"
   ]
  }
 ],
 "metadata": {
  "kernelspec": {
   "display_name": "Environment (conda_pytorch_p36)",
   "language": "python",
   "name": "conda_pytorch_p36"
  },
  "language_info": {
   "codemirror_mode": {
    "name": "ipython",
    "version": 3
   },
   "file_extension": ".py",
   "mimetype": "text/x-python",
   "name": "python",
   "nbconvert_exporter": "python",
   "pygments_lexer": "ipython3",
   "version": "3.6.5"
  }
 },
 "nbformat": 4,
 "nbformat_minor": 2
}
